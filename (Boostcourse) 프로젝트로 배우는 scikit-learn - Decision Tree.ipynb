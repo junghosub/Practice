{
 "cells": [
  {
   "cell_type": "markdown",
   "metadata": {},
   "source": [
    "# (Boostcourse) 프로젝트로 배우는 scikit-learn - Decision Tree"
   ]
  },
  {
   "cell_type": "code",
   "execution_count": 2,
   "metadata": {},
   "outputs": [],
   "source": [
    "import pandas as pd\n",
    "import numpy as np\n",
    "import seaborn as sns\n",
    "import matplotlib.pyplot as plt"
   ]
  },
  {
   "cell_type": "code",
   "execution_count": 3,
   "metadata": {},
   "outputs": [
    {
     "data": {
      "text/plain": [
       "(768, 13)"
      ]
     },
     "execution_count": 3,
     "metadata": {},
     "output_type": "execute_result"
    }
   ],
   "source": [
    "df = pd.read_csv('diabetes_feature.csv')\n",
    "df.shape"
   ]
  },
  {
   "cell_type": "code",
   "execution_count": 4,
   "metadata": {},
   "outputs": [
    {
     "data": {
      "text/html": [
       "<div>\n",
       "<style scoped>\n",
       "    .dataframe tbody tr th:only-of-type {\n",
       "        vertical-align: middle;\n",
       "    }\n",
       "\n",
       "    .dataframe tbody tr th {\n",
       "        vertical-align: top;\n",
       "    }\n",
       "\n",
       "    .dataframe thead th {\n",
       "        text-align: right;\n",
       "    }\n",
       "</style>\n",
       "<table border=\"1\" class=\"dataframe\">\n",
       "  <thead>\n",
       "    <tr style=\"text-align: right;\">\n",
       "      <th></th>\n",
       "      <th>Pregnancies</th>\n",
       "      <th>Glucose</th>\n",
       "      <th>BloodPressure</th>\n",
       "      <th>SkinThickness</th>\n",
       "      <th>Insulin</th>\n",
       "      <th>BMI</th>\n",
       "      <th>DiabetesPedigreeFunction</th>\n",
       "      <th>Age</th>\n",
       "      <th>Outcome</th>\n",
       "      <th>Pregnancies_high</th>\n",
       "      <th>Insulin_nan</th>\n",
       "      <th>Insulin_log</th>\n",
       "      <th>low_glu_insulin</th>\n",
       "    </tr>\n",
       "  </thead>\n",
       "  <tbody>\n",
       "    <tr>\n",
       "      <th>0</th>\n",
       "      <td>6</td>\n",
       "      <td>148</td>\n",
       "      <td>72</td>\n",
       "      <td>35</td>\n",
       "      <td>0</td>\n",
       "      <td>33.6</td>\n",
       "      <td>0.627</td>\n",
       "      <td>50</td>\n",
       "      <td>1</td>\n",
       "      <td>0</td>\n",
       "      <td>169.5</td>\n",
       "      <td>5.138735</td>\n",
       "      <td>False</td>\n",
       "    </tr>\n",
       "    <tr>\n",
       "      <th>1</th>\n",
       "      <td>1</td>\n",
       "      <td>85</td>\n",
       "      <td>66</td>\n",
       "      <td>29</td>\n",
       "      <td>0</td>\n",
       "      <td>26.6</td>\n",
       "      <td>0.351</td>\n",
       "      <td>31</td>\n",
       "      <td>0</td>\n",
       "      <td>0</td>\n",
       "      <td>102.5</td>\n",
       "      <td>4.639572</td>\n",
       "      <td>True</td>\n",
       "    </tr>\n",
       "    <tr>\n",
       "      <th>2</th>\n",
       "      <td>8</td>\n",
       "      <td>183</td>\n",
       "      <td>64</td>\n",
       "      <td>0</td>\n",
       "      <td>0</td>\n",
       "      <td>23.3</td>\n",
       "      <td>0.672</td>\n",
       "      <td>32</td>\n",
       "      <td>1</td>\n",
       "      <td>1</td>\n",
       "      <td>169.5</td>\n",
       "      <td>5.138735</td>\n",
       "      <td>False</td>\n",
       "    </tr>\n",
       "    <tr>\n",
       "      <th>3</th>\n",
       "      <td>1</td>\n",
       "      <td>89</td>\n",
       "      <td>66</td>\n",
       "      <td>23</td>\n",
       "      <td>94</td>\n",
       "      <td>28.1</td>\n",
       "      <td>0.167</td>\n",
       "      <td>21</td>\n",
       "      <td>0</td>\n",
       "      <td>0</td>\n",
       "      <td>94.0</td>\n",
       "      <td>4.553877</td>\n",
       "      <td>True</td>\n",
       "    </tr>\n",
       "    <tr>\n",
       "      <th>4</th>\n",
       "      <td>0</td>\n",
       "      <td>137</td>\n",
       "      <td>40</td>\n",
       "      <td>35</td>\n",
       "      <td>168</td>\n",
       "      <td>43.1</td>\n",
       "      <td>2.288</td>\n",
       "      <td>33</td>\n",
       "      <td>1</td>\n",
       "      <td>0</td>\n",
       "      <td>168.0</td>\n",
       "      <td>5.129899</td>\n",
       "      <td>False</td>\n",
       "    </tr>\n",
       "  </tbody>\n",
       "</table>\n",
       "</div>"
      ],
      "text/plain": [
       "   Pregnancies  Glucose  BloodPressure  SkinThickness  Insulin   BMI  \\\n",
       "0            6      148             72             35        0  33.6   \n",
       "1            1       85             66             29        0  26.6   \n",
       "2            8      183             64              0        0  23.3   \n",
       "3            1       89             66             23       94  28.1   \n",
       "4            0      137             40             35      168  43.1   \n",
       "\n",
       "   DiabetesPedigreeFunction  Age  Outcome  Pregnancies_high  Insulin_nan  \\\n",
       "0                     0.627   50        1                 0        169.5   \n",
       "1                     0.351   31        0                 0        102.5   \n",
       "2                     0.672   32        1                 1        169.5   \n",
       "3                     0.167   21        0                 0         94.0   \n",
       "4                     2.288   33        1                 0        168.0   \n",
       "\n",
       "   Insulin_log  low_glu_insulin  \n",
       "0     5.138735            False  \n",
       "1     4.639572             True  \n",
       "2     5.138735            False  \n",
       "3     4.553877             True  \n",
       "4     5.129899            False  "
      ]
     },
     "execution_count": 4,
     "metadata": {},
     "output_type": "execute_result"
    }
   ],
   "source": [
    "df.head()"
   ]
  },
  {
   "cell_type": "markdown",
   "metadata": {},
   "source": [
    "## Split"
   ]
  },
  {
   "cell_type": "code",
   "execution_count": 6,
   "metadata": {},
   "outputs": [
    {
     "name": "stdout",
     "output_type": "stream",
     "text": [
      "train 개수:  (537, 9) (537,)\n",
      "test 개수:  (231, 9) (231,)\n"
     ]
    }
   ],
   "source": [
    "from sklearn.model_selection import train_test_split\n",
    "\n",
    "X = df[['Glucose', 'BloodPressure', 'SkinThickness',\n",
    "       'BMI', 'DiabetesPedigreeFunction', 'Age', 'Pregnancies_high',\n",
    "        'Insulin_log', 'low_glu_insulin']]\n",
    "y = df['Outcome']\n",
    "\n",
    "X_train, X_test, y_train, y_test = train_test_split(X, y, test_size = 0.3, random_state = 42)\n",
    "\n",
    "print('train 개수: ', X_train.shape, y_train.shape)\n",
    "print('test 개수: ', X_test.shape, y_test.shape)"
   ]
  },
  {
   "cell_type": "code",
   "execution_count": 7,
   "metadata": {},
   "outputs": [],
   "source": [
    "from sklearn.tree import DecisionTreeClassifier\n",
    "\n",
    "model = DecisionTreeClassifier(random_state = 42)\n",
    "\n",
    "model.fit(X_train, y_train)\n",
    "y_predict = model.predict(X_test)"
   ]
  },
  {
   "cell_type": "markdown",
   "metadata": {},
   "source": [
    "### 최적의 hyper parameter 찾기 : for문"
   ]
  },
  {
   "cell_type": "code",
   "execution_count": 131,
   "metadata": {
    "scrolled": true
   },
   "outputs": [
    {
     "name": "stdout",
     "output_type": "stream",
     "text": [
      "3 0.8658008658008658\n",
      "4 0.8571428571428571\n",
      "5 0.8614718614718615\n",
      "6 0.8528138528138528\n",
      "7 0.8311688311688312\n",
      "8 0.8398268398268398\n",
      "9 0.8311688311688312\n",
      "10 0.8398268398268398\n",
      "11 0.8398268398268398\n"
     ]
    }
   ],
   "source": [
    "for max_depth in range(3,12):\n",
    "    model = DecisionTreeClassifier(max_depth = max_depth, random_state = 42)\n",
    "    y_predict = model.fit(X_train, y_train).predict(X_test)\n",
    "    score = accuracy_score(y_test, y_predict)\n",
    "    print(max_depth, score)"
   ]
  },
  {
   "cell_type": "markdown",
   "metadata": {},
   "source": [
    "### 최적의 hyper parameter 찾기 : Grid Search"
   ]
  },
  {
   "cell_type": "code",
   "execution_count": 8,
   "metadata": {},
   "outputs": [
    {
     "name": "stdout",
     "output_type": "stream",
     "text": [
      "Fitting 5 folds for each of 45 candidates, totalling 225 fits\n"
     ]
    },
    {
     "name": "stderr",
     "output_type": "stream",
     "text": [
      "[Parallel(n_jobs=-1)]: Using backend LokyBackend with 8 concurrent workers.\n",
      "[Parallel(n_jobs=-1)]: Done  34 tasks      | elapsed:    3.2s\n",
      "[Parallel(n_jobs=-1)]: Done 225 out of 225 | elapsed:    3.4s finished\n"
     ]
    },
    {
     "data": {
      "text/plain": [
       "GridSearchCV(cv=5, estimator=DecisionTreeClassifier(random_state=42), n_jobs=-1,\n",
       "             param_grid={'max_depth': range(3, 12),\n",
       "                         'max_features': [0.3, 0.5, 0.7, 0.9, 1]},\n",
       "             verbose=1)"
      ]
     },
     "execution_count": 8,
     "metadata": {},
     "output_type": "execute_result"
    }
   ],
   "source": [
    "from sklearn.model_selection import GridSearchCV\n",
    "\n",
    "model = DecisionTreeClassifier(random_state = 42)\n",
    "\n",
    "param_grid = {'max_depth' : range(3,12), \n",
    "              'max_features' : [0.3, 0.5, 0.7, 0.9, 1]}\n",
    "\n",
    "clf = GridSearchCV(model, \n",
    "                   param_grid=param_grid, \n",
    "                   n_jobs = -1, \n",
    "                   cv = 5, \n",
    "                   verbose = 1)\n",
    "\n",
    "clf.fit(X_train, y_train)"
   ]
  },
  {
   "cell_type": "markdown",
   "metadata": {},
   "source": [
    "n_job = -1을 지정하면 장비에서 사용가능한 모든 프로세서를 사용한다.\n",
    "\n",
    "cv (cross validation)의 약자로 5개의 fold로 나눈다.\n",
    "\n",
    "verbose = 1 옵션을 통해 로그 출력창을 확인 할 수 있다."
   ]
  },
  {
   "cell_type": "code",
   "execution_count": 9,
   "metadata": {},
   "outputs": [
    {
     "name": "stdout",
     "output_type": "stream",
     "text": [
      "{'max_depth': 10, 'max_features': 0.9}\n",
      "0.8714953271028036\n"
     ]
    }
   ],
   "source": [
    "print(clf.best_params_)\n",
    "print(clf.best_score_)"
   ]
  },
  {
   "cell_type": "code",
   "execution_count": 10,
   "metadata": {},
   "outputs": [
    {
     "data": {
      "text/plain": [
       "0.8441558441558441"
      ]
     },
     "execution_count": 10,
     "metadata": {},
     "output_type": "execute_result"
    }
   ],
   "source": [
    "clf.score(X_test, y_test)"
   ]
  },
  {
   "cell_type": "code",
   "execution_count": 11,
   "metadata": {
    "scrolled": true
   },
   "outputs": [
    {
     "data": {
      "text/html": [
       "<div>\n",
       "<style scoped>\n",
       "    .dataframe tbody tr th:only-of-type {\n",
       "        vertical-align: middle;\n",
       "    }\n",
       "\n",
       "    .dataframe tbody tr th {\n",
       "        vertical-align: top;\n",
       "    }\n",
       "\n",
       "    .dataframe thead th {\n",
       "        text-align: right;\n",
       "    }\n",
       "</style>\n",
       "<table border=\"1\" class=\"dataframe\">\n",
       "  <thead>\n",
       "    <tr style=\"text-align: right;\">\n",
       "      <th></th>\n",
       "      <th>mean_fit_time</th>\n",
       "      <th>std_fit_time</th>\n",
       "      <th>mean_score_time</th>\n",
       "      <th>std_score_time</th>\n",
       "      <th>param_max_depth</th>\n",
       "      <th>param_max_features</th>\n",
       "      <th>params</th>\n",
       "      <th>split0_test_score</th>\n",
       "      <th>split1_test_score</th>\n",
       "      <th>split2_test_score</th>\n",
       "      <th>split3_test_score</th>\n",
       "      <th>split4_test_score</th>\n",
       "      <th>mean_test_score</th>\n",
       "      <th>std_test_score</th>\n",
       "      <th>rank_test_score</th>\n",
       "    </tr>\n",
       "  </thead>\n",
       "  <tbody>\n",
       "    <tr>\n",
       "      <th>43</th>\n",
       "      <td>0.004662</td>\n",
       "      <td>0.000920</td>\n",
       "      <td>0.002182</td>\n",
       "      <td>0.000595</td>\n",
       "      <td>11</td>\n",
       "      <td>0.9</td>\n",
       "      <td>{'max_depth': 11, 'max_features': 0.9}</td>\n",
       "      <td>0.898148</td>\n",
       "      <td>0.851852</td>\n",
       "      <td>0.906542</td>\n",
       "      <td>0.859813</td>\n",
       "      <td>0.841121</td>\n",
       "      <td>0.871495</td>\n",
       "      <td>0.026014</td>\n",
       "      <td>1</td>\n",
       "    </tr>\n",
       "    <tr>\n",
       "      <th>38</th>\n",
       "      <td>0.005952</td>\n",
       "      <td>0.001131</td>\n",
       "      <td>0.003076</td>\n",
       "      <td>0.000371</td>\n",
       "      <td>10</td>\n",
       "      <td>0.9</td>\n",
       "      <td>{'max_depth': 10, 'max_features': 0.9}</td>\n",
       "      <td>0.898148</td>\n",
       "      <td>0.851852</td>\n",
       "      <td>0.906542</td>\n",
       "      <td>0.859813</td>\n",
       "      <td>0.841121</td>\n",
       "      <td>0.871495</td>\n",
       "      <td>0.026014</td>\n",
       "      <td>1</td>\n",
       "    </tr>\n",
       "    <tr>\n",
       "      <th>13</th>\n",
       "      <td>0.003868</td>\n",
       "      <td>0.000729</td>\n",
       "      <td>0.002084</td>\n",
       "      <td>0.000371</td>\n",
       "      <td>5</td>\n",
       "      <td>0.9</td>\n",
       "      <td>{'max_depth': 5, 'max_features': 0.9}</td>\n",
       "      <td>0.907407</td>\n",
       "      <td>0.842593</td>\n",
       "      <td>0.813084</td>\n",
       "      <td>0.869159</td>\n",
       "      <td>0.878505</td>\n",
       "      <td>0.862150</td>\n",
       "      <td>0.032109</td>\n",
       "      <td>3</td>\n",
       "    </tr>\n",
       "    <tr>\n",
       "      <th>33</th>\n",
       "      <td>0.005852</td>\n",
       "      <td>0.001059</td>\n",
       "      <td>0.003671</td>\n",
       "      <td>0.001278</td>\n",
       "      <td>9</td>\n",
       "      <td>0.9</td>\n",
       "      <td>{'max_depth': 9, 'max_features': 0.9}</td>\n",
       "      <td>0.898148</td>\n",
       "      <td>0.851852</td>\n",
       "      <td>0.859813</td>\n",
       "      <td>0.850467</td>\n",
       "      <td>0.841121</td>\n",
       "      <td>0.860280</td>\n",
       "      <td>0.019842</td>\n",
       "      <td>4</td>\n",
       "    </tr>\n",
       "    <tr>\n",
       "      <th>12</th>\n",
       "      <td>0.003373</td>\n",
       "      <td>0.000486</td>\n",
       "      <td>0.001786</td>\n",
       "      <td>0.000397</td>\n",
       "      <td>5</td>\n",
       "      <td>0.7</td>\n",
       "      <td>{'max_depth': 5, 'max_features': 0.7}</td>\n",
       "      <td>0.907407</td>\n",
       "      <td>0.851852</td>\n",
       "      <td>0.822430</td>\n",
       "      <td>0.878505</td>\n",
       "      <td>0.841121</td>\n",
       "      <td>0.860263</td>\n",
       "      <td>0.029745</td>\n",
       "      <td>5</td>\n",
       "    </tr>\n",
       "  </tbody>\n",
       "</table>\n",
       "</div>"
      ],
      "text/plain": [
       "    mean_fit_time  std_fit_time  mean_score_time  std_score_time  \\\n",
       "43       0.004662      0.000920         0.002182        0.000595   \n",
       "38       0.005952      0.001131         0.003076        0.000371   \n",
       "13       0.003868      0.000729         0.002084        0.000371   \n",
       "33       0.005852      0.001059         0.003671        0.001278   \n",
       "12       0.003373      0.000486         0.001786        0.000397   \n",
       "\n",
       "   param_max_depth param_max_features                                  params  \\\n",
       "43              11                0.9  {'max_depth': 11, 'max_features': 0.9}   \n",
       "38              10                0.9  {'max_depth': 10, 'max_features': 0.9}   \n",
       "13               5                0.9   {'max_depth': 5, 'max_features': 0.9}   \n",
       "33               9                0.9   {'max_depth': 9, 'max_features': 0.9}   \n",
       "12               5                0.7   {'max_depth': 5, 'max_features': 0.7}   \n",
       "\n",
       "    split0_test_score  split1_test_score  split2_test_score  \\\n",
       "43           0.898148           0.851852           0.906542   \n",
       "38           0.898148           0.851852           0.906542   \n",
       "13           0.907407           0.842593           0.813084   \n",
       "33           0.898148           0.851852           0.859813   \n",
       "12           0.907407           0.851852           0.822430   \n",
       "\n",
       "    split3_test_score  split4_test_score  mean_test_score  std_test_score  \\\n",
       "43           0.859813           0.841121         0.871495        0.026014   \n",
       "38           0.859813           0.841121         0.871495        0.026014   \n",
       "13           0.869159           0.878505         0.862150        0.032109   \n",
       "33           0.850467           0.841121         0.860280        0.019842   \n",
       "12           0.878505           0.841121         0.860263        0.029745   \n",
       "\n",
       "    rank_test_score  \n",
       "43                1  \n",
       "38                1  \n",
       "13                3  \n",
       "33                4  \n",
       "12                5  "
      ]
     },
     "execution_count": 11,
     "metadata": {},
     "output_type": "execute_result"
    }
   ],
   "source": [
    "pd.DataFrame(clf.cv_results_).sort_values(by = 'rank_test_score').head()"
   ]
  },
  {
   "cell_type": "markdown",
   "metadata": {},
   "source": [
    "### 최적의 hyper parameter 찾기 : Random Search"
   ]
  },
  {
   "cell_type": "code",
   "execution_count": 12,
   "metadata": {},
   "outputs": [
    {
     "data": {
      "text/plain": [
       "RandomizedSearchCV(cv=5, estimator=DecisionTreeClassifier(random_state=42),\n",
       "                   n_iter=100, n_jobs=-1,\n",
       "                   param_distributions={'max_depth': array([ 8,  9, 18, 11,  4, 17,  6,  6,  7,  3,  2,  7,  3, 16, 13, 14,  2,\n",
       "        8, 17,  9,  2, 19, 15,  8, 10,  5, 13,  1, 13, 15, 17, 19, 19,  9,\n",
       "       10, 17,  7, 11,  1, 17, 17, 15, 13,  3,  5, 19,  5, 11,  9, 14,  5,\n",
       "       11,  9,  9, 10,  7, 13, 17,  3, 18,  6,  8, 17,  3,  5, 16,  1,  2,\n",
       "       12,  2, 18, 10,  9,  7,  3, 14, 16,  6, 19, 15, 16, 15, 14, 19, 12,...\n",
       "       0.9253087 , 0.78856492, 0.76196586, 0.96923634, 0.82056714,\n",
       "       0.80230002, 0.9174423 , 0.88393938, 0.9121063 , 0.77882843,\n",
       "       0.92289928, 0.79672683, 0.7242198 , 0.99431252, 0.8681459 ,\n",
       "       0.79681609, 0.8591139 , 0.84303083, 0.95204023, 0.89358613,\n",
       "       0.97401949, 0.86257058, 0.78839424, 0.74879182, 0.96754518,\n",
       "       0.97719039, 0.74549312, 0.87953716, 0.82731468, 0.77285801]),\n",
       "                                        'min_samples_split': [2, 3, 4, 5, 6]},\n",
       "                   random_state=42, scoring='accuracy')"
      ]
     },
     "execution_count": 12,
     "metadata": {},
     "output_type": "execute_result"
    }
   ],
   "source": [
    "from sklearn.model_selection import RandomizedSearchCV\n",
    "\n",
    "param_distributions = {'max_depth' : np.random.randint(1,20,100), \n",
    "                       'max_features' : np.random.uniform(0.7, 1.0, 100),\n",
    "                      'min_samples_split' : list(range(2,7))}\n",
    "\n",
    "clf = RandomizedSearchCV(model, \n",
    "                   param_distributions = param_distributions, \n",
    "                   n_iter=100, \n",
    "                   scoring='accuracy', \n",
    "                   n_jobs=-1, \n",
    "                   cv=5, \n",
    "                   random_state=42)\n",
    "\n",
    "clf.fit(X_train, y_train)"
   ]
  },
  {
   "cell_type": "code",
   "execution_count": 13,
   "metadata": {},
   "outputs": [
    {
     "name": "stdout",
     "output_type": "stream",
     "text": [
      "{'min_samples_split': 4, 'max_features': 0.8653774444284837, 'max_depth': 5}\n",
      "0.8715126341294566\n"
     ]
    }
   ],
   "source": [
    "print(clf.best_params_)\n",
    "print(clf.best_score_)"
   ]
  },
  {
   "cell_type": "code",
   "execution_count": 14,
   "metadata": {},
   "outputs": [
    {
     "data": {
      "text/plain": [
       "0.8701298701298701"
      ]
     },
     "execution_count": 14,
     "metadata": {},
     "output_type": "execute_result"
    }
   ],
   "source": [
    "clf.score(X_test, y_test)"
   ]
  },
  {
   "cell_type": "code",
   "execution_count": 15,
   "metadata": {},
   "outputs": [
    {
     "data": {
      "text/html": [
       "<div>\n",
       "<style scoped>\n",
       "    .dataframe tbody tr th:only-of-type {\n",
       "        vertical-align: middle;\n",
       "    }\n",
       "\n",
       "    .dataframe tbody tr th {\n",
       "        vertical-align: top;\n",
       "    }\n",
       "\n",
       "    .dataframe thead th {\n",
       "        text-align: right;\n",
       "    }\n",
       "</style>\n",
       "<table border=\"1\" class=\"dataframe\">\n",
       "  <thead>\n",
       "    <tr style=\"text-align: right;\">\n",
       "      <th></th>\n",
       "      <th>mean_fit_time</th>\n",
       "      <th>std_fit_time</th>\n",
       "      <th>mean_score_time</th>\n",
       "      <th>std_score_time</th>\n",
       "      <th>param_min_samples_split</th>\n",
       "      <th>param_max_features</th>\n",
       "      <th>param_max_depth</th>\n",
       "      <th>params</th>\n",
       "      <th>split0_test_score</th>\n",
       "      <th>split1_test_score</th>\n",
       "      <th>split2_test_score</th>\n",
       "      <th>split3_test_score</th>\n",
       "      <th>split4_test_score</th>\n",
       "      <th>mean_test_score</th>\n",
       "      <th>std_test_score</th>\n",
       "      <th>rank_test_score</th>\n",
       "    </tr>\n",
       "  </thead>\n",
       "  <tbody>\n",
       "    <tr>\n",
       "      <th>84</th>\n",
       "      <td>0.006250</td>\n",
       "      <td>0.002834</td>\n",
       "      <td>0.002777</td>\n",
       "      <td>0.000243</td>\n",
       "      <td>4</td>\n",
       "      <td>0.865377</td>\n",
       "      <td>5</td>\n",
       "      <td>{'min_samples_split': 4, 'max_features': 0.865...</td>\n",
       "      <td>0.870370</td>\n",
       "      <td>0.870370</td>\n",
       "      <td>0.869159</td>\n",
       "      <td>0.841121</td>\n",
       "      <td>0.906542</td>\n",
       "      <td>0.871513</td>\n",
       "      <td>0.020779</td>\n",
       "      <td>1</td>\n",
       "    </tr>\n",
       "    <tr>\n",
       "      <th>12</th>\n",
       "      <td>0.004960</td>\n",
       "      <td>0.000314</td>\n",
       "      <td>0.002778</td>\n",
       "      <td>0.000242</td>\n",
       "      <td>2</td>\n",
       "      <td>0.959508</td>\n",
       "      <td>14</td>\n",
       "      <td>{'min_samples_split': 2, 'max_features': 0.959...</td>\n",
       "      <td>0.898148</td>\n",
       "      <td>0.851852</td>\n",
       "      <td>0.906542</td>\n",
       "      <td>0.859813</td>\n",
       "      <td>0.841121</td>\n",
       "      <td>0.871495</td>\n",
       "      <td>0.026014</td>\n",
       "      <td>2</td>\n",
       "    </tr>\n",
       "    <tr>\n",
       "      <th>60</th>\n",
       "      <td>0.005456</td>\n",
       "      <td>0.000314</td>\n",
       "      <td>0.004167</td>\n",
       "      <td>0.002885</td>\n",
       "      <td>5</td>\n",
       "      <td>0.95204</td>\n",
       "      <td>6</td>\n",
       "      <td>{'min_samples_split': 5, 'max_features': 0.952...</td>\n",
       "      <td>0.898148</td>\n",
       "      <td>0.879630</td>\n",
       "      <td>0.841121</td>\n",
       "      <td>0.859813</td>\n",
       "      <td>0.878505</td>\n",
       "      <td>0.871443</td>\n",
       "      <td>0.019415</td>\n",
       "      <td>3</td>\n",
       "    </tr>\n",
       "    <tr>\n",
       "      <th>82</th>\n",
       "      <td>0.005158</td>\n",
       "      <td>0.000243</td>\n",
       "      <td>0.002678</td>\n",
       "      <td>0.000243</td>\n",
       "      <td>5</td>\n",
       "      <td>0.800126</td>\n",
       "      <td>9</td>\n",
       "      <td>{'min_samples_split': 5, 'max_features': 0.800...</td>\n",
       "      <td>0.842593</td>\n",
       "      <td>0.851852</td>\n",
       "      <td>0.887850</td>\n",
       "      <td>0.878505</td>\n",
       "      <td>0.869159</td>\n",
       "      <td>0.865992</td>\n",
       "      <td>0.016685</td>\n",
       "      <td>4</td>\n",
       "    </tr>\n",
       "    <tr>\n",
       "      <th>64</th>\n",
       "      <td>0.005157</td>\n",
       "      <td>0.000243</td>\n",
       "      <td>0.002581</td>\n",
       "      <td>0.000371</td>\n",
       "      <td>5</td>\n",
       "      <td>0.926528</td>\n",
       "      <td>8</td>\n",
       "      <td>{'min_samples_split': 5, 'max_features': 0.926...</td>\n",
       "      <td>0.879630</td>\n",
       "      <td>0.861111</td>\n",
       "      <td>0.878505</td>\n",
       "      <td>0.878505</td>\n",
       "      <td>0.831776</td>\n",
       "      <td>0.865905</td>\n",
       "      <td>0.018405</td>\n",
       "      <td>5</td>\n",
       "    </tr>\n",
       "  </tbody>\n",
       "</table>\n",
       "</div>"
      ],
      "text/plain": [
       "    mean_fit_time  std_fit_time  mean_score_time  std_score_time  \\\n",
       "84       0.006250      0.002834         0.002777        0.000243   \n",
       "12       0.004960      0.000314         0.002778        0.000242   \n",
       "60       0.005456      0.000314         0.004167        0.002885   \n",
       "82       0.005158      0.000243         0.002678        0.000243   \n",
       "64       0.005157      0.000243         0.002581        0.000371   \n",
       "\n",
       "   param_min_samples_split param_max_features param_max_depth  \\\n",
       "84                       4           0.865377               5   \n",
       "12                       2           0.959508              14   \n",
       "60                       5            0.95204               6   \n",
       "82                       5           0.800126               9   \n",
       "64                       5           0.926528               8   \n",
       "\n",
       "                                               params  split0_test_score  \\\n",
       "84  {'min_samples_split': 4, 'max_features': 0.865...           0.870370   \n",
       "12  {'min_samples_split': 2, 'max_features': 0.959...           0.898148   \n",
       "60  {'min_samples_split': 5, 'max_features': 0.952...           0.898148   \n",
       "82  {'min_samples_split': 5, 'max_features': 0.800...           0.842593   \n",
       "64  {'min_samples_split': 5, 'max_features': 0.926...           0.879630   \n",
       "\n",
       "    split1_test_score  split2_test_score  split3_test_score  \\\n",
       "84           0.870370           0.869159           0.841121   \n",
       "12           0.851852           0.906542           0.859813   \n",
       "60           0.879630           0.841121           0.859813   \n",
       "82           0.851852           0.887850           0.878505   \n",
       "64           0.861111           0.878505           0.878505   \n",
       "\n",
       "    split4_test_score  mean_test_score  std_test_score  rank_test_score  \n",
       "84           0.906542         0.871513        0.020779                1  \n",
       "12           0.841121         0.871495        0.026014                2  \n",
       "60           0.878505         0.871443        0.019415                3  \n",
       "82           0.869159         0.865992        0.016685                4  \n",
       "64           0.831776         0.865905        0.018405                5  "
      ]
     },
     "execution_count": 15,
     "metadata": {},
     "output_type": "execute_result"
    }
   ],
   "source": [
    "pd.DataFrame(clf.cv_results_).sort_values(by = 'rank_test_score').head()"
   ]
  }
 ],
 "metadata": {
  "kernelspec": {
   "display_name": "Python 3",
   "language": "python",
   "name": "python3"
  },
  "language_info": {
   "codemirror_mode": {
    "name": "ipython",
    "version": 3
   },
   "file_extension": ".py",
   "mimetype": "text/x-python",
   "name": "python",
   "nbconvert_exporter": "python",
   "pygments_lexer": "ipython3",
   "version": "3.7.9"
  }
 },
 "nbformat": 4,
 "nbformat_minor": 2
}
